{
  "nbformat": 4,
  "nbformat_minor": 0,
  "metadata": {
    "colab": {
      "provenance": []
    },
    "kernelspec": {
      "name": "python3",
      "display_name": "Python 3"
    },
    "language_info": {
      "name": "python"
    }
  },
  "cells": [
    {
      "cell_type": "code",
      "execution_count": 25,
      "metadata": {
        "id": "PLNOjR4sSLC6"
      },
      "outputs": [],
      "source": [
        "import numpy as np\n",
        "import pandas as pd\n",
        "import matplotlib.pyplot as plt\n",
        "import os\n",
        "import seaborn as sns"
      ]
    },
    {
      "cell_type": "markdown",
      "source": [
        "## Data Collection\n"
      ],
      "metadata": {
        "id": "U-6vnJT3Tt_B"
      }
    },
    {
      "cell_type": "code",
      "source": [
        "master_df= pd.DataFrame()\n",
        "for file in os.listdir('/content'):\n",
        "  if file.endswith('.csv'):\n",
        "    master_df= master_df.append(pd.read_csv(file))\n",
        "master_df.to_csv('combined_df.csv',index=False)"
      ],
      "metadata": {
        "colab": {
          "base_uri": "https://localhost:8080/"
        },
        "id": "nx0UfkOkT0Yy",
        "outputId": "2ae12868-6634-443e-bc04-3af7a6f97c57"
      },
      "execution_count": 26,
      "outputs": [
        {
          "output_type": "stream",
          "name": "stderr",
          "text": [
            "<ipython-input-26-e72436da8ed8>:4: FutureWarning: The frame.append method is deprecated and will be removed from pandas in a future version. Use pandas.concat instead.\n",
            "  master_df= master_df.append(pd.read_csv(file))\n",
            "<ipython-input-26-e72436da8ed8>:4: FutureWarning: The frame.append method is deprecated and will be removed from pandas in a future version. Use pandas.concat instead.\n",
            "  master_df= master_df.append(pd.read_csv(file))\n",
            "<ipython-input-26-e72436da8ed8>:4: FutureWarning: The frame.append method is deprecated and will be removed from pandas in a future version. Use pandas.concat instead.\n",
            "  master_df= master_df.append(pd.read_csv(file))\n"
          ]
        }
      ]
    },
    {
      "cell_type": "code",
      "source": [
        "df=pd.read_csv('combined_df.csv')"
      ],
      "metadata": {
        "id": "PxTYuiscUrn6"
      },
      "execution_count": 27,
      "outputs": []
    },
    {
      "cell_type": "code",
      "source": [
        "df.head(5)"
      ],
      "metadata": {
        "colab": {
          "base_uri": "https://localhost:8080/",
          "height": 296
        },
        "id": "1A_SPnhsU7o4",
        "outputId": "880594a5-85d0-4a39-e50f-21d0426757ea"
      },
      "execution_count": 28,
      "outputs": [
        {
          "output_type": "execute_result",
          "data": {
            "text/plain": [
              "   employee_id         department     region         education gender  \\\n",
              "0        65438  Sales & Marketing   region_7  Master's & above      f   \n",
              "1        65141         Operations  region_22        Bachelor's      m   \n",
              "2         7513  Sales & Marketing  region_19        Bachelor's      m   \n",
              "3         2542  Sales & Marketing  region_23        Bachelor's      m   \n",
              "4        48945         Technology  region_26        Bachelor's      m   \n",
              "\n",
              "  recruitment_channel  no_of_trainings  age  previous_year_rating  \\\n",
              "0            sourcing                1   35                   5.0   \n",
              "1               other                1   30                   5.0   \n",
              "2            sourcing                1   34                   3.0   \n",
              "3               other                2   39                   1.0   \n",
              "4               other                1   45                   3.0   \n",
              "\n",
              "   length_of_service  KPIs_met >80%  awards_won?  avg_training_score  \\\n",
              "0                  8              1            0                  49   \n",
              "1                  4              0            0                  60   \n",
              "2                  7              0            0                  50   \n",
              "3                 10              0            0                  50   \n",
              "4                  2              0            0                  73   \n",
              "\n",
              "   is_promoted  \n",
              "0          0.0  \n",
              "1          0.0  \n",
              "2          0.0  \n",
              "3          0.0  \n",
              "4          0.0  "
            ],
            "text/html": [
              "\n",
              "  <div id=\"df-fd74f474-0193-4ad9-88fb-f4a03262b318\" class=\"colab-df-container\">\n",
              "    <div>\n",
              "<style scoped>\n",
              "    .dataframe tbody tr th:only-of-type {\n",
              "        vertical-align: middle;\n",
              "    }\n",
              "\n",
              "    .dataframe tbody tr th {\n",
              "        vertical-align: top;\n",
              "    }\n",
              "\n",
              "    .dataframe thead th {\n",
              "        text-align: right;\n",
              "    }\n",
              "</style>\n",
              "<table border=\"1\" class=\"dataframe\">\n",
              "  <thead>\n",
              "    <tr style=\"text-align: right;\">\n",
              "      <th></th>\n",
              "      <th>employee_id</th>\n",
              "      <th>department</th>\n",
              "      <th>region</th>\n",
              "      <th>education</th>\n",
              "      <th>gender</th>\n",
              "      <th>recruitment_channel</th>\n",
              "      <th>no_of_trainings</th>\n",
              "      <th>age</th>\n",
              "      <th>previous_year_rating</th>\n",
              "      <th>length_of_service</th>\n",
              "      <th>KPIs_met &gt;80%</th>\n",
              "      <th>awards_won?</th>\n",
              "      <th>avg_training_score</th>\n",
              "      <th>is_promoted</th>\n",
              "    </tr>\n",
              "  </thead>\n",
              "  <tbody>\n",
              "    <tr>\n",
              "      <th>0</th>\n",
              "      <td>65438</td>\n",
              "      <td>Sales &amp; Marketing</td>\n",
              "      <td>region_7</td>\n",
              "      <td>Master's &amp; above</td>\n",
              "      <td>f</td>\n",
              "      <td>sourcing</td>\n",
              "      <td>1</td>\n",
              "      <td>35</td>\n",
              "      <td>5.0</td>\n",
              "      <td>8</td>\n",
              "      <td>1</td>\n",
              "      <td>0</td>\n",
              "      <td>49</td>\n",
              "      <td>0.0</td>\n",
              "    </tr>\n",
              "    <tr>\n",
              "      <th>1</th>\n",
              "      <td>65141</td>\n",
              "      <td>Operations</td>\n",
              "      <td>region_22</td>\n",
              "      <td>Bachelor's</td>\n",
              "      <td>m</td>\n",
              "      <td>other</td>\n",
              "      <td>1</td>\n",
              "      <td>30</td>\n",
              "      <td>5.0</td>\n",
              "      <td>4</td>\n",
              "      <td>0</td>\n",
              "      <td>0</td>\n",
              "      <td>60</td>\n",
              "      <td>0.0</td>\n",
              "    </tr>\n",
              "    <tr>\n",
              "      <th>2</th>\n",
              "      <td>7513</td>\n",
              "      <td>Sales &amp; Marketing</td>\n",
              "      <td>region_19</td>\n",
              "      <td>Bachelor's</td>\n",
              "      <td>m</td>\n",
              "      <td>sourcing</td>\n",
              "      <td>1</td>\n",
              "      <td>34</td>\n",
              "      <td>3.0</td>\n",
              "      <td>7</td>\n",
              "      <td>0</td>\n",
              "      <td>0</td>\n",
              "      <td>50</td>\n",
              "      <td>0.0</td>\n",
              "    </tr>\n",
              "    <tr>\n",
              "      <th>3</th>\n",
              "      <td>2542</td>\n",
              "      <td>Sales &amp; Marketing</td>\n",
              "      <td>region_23</td>\n",
              "      <td>Bachelor's</td>\n",
              "      <td>m</td>\n",
              "      <td>other</td>\n",
              "      <td>2</td>\n",
              "      <td>39</td>\n",
              "      <td>1.0</td>\n",
              "      <td>10</td>\n",
              "      <td>0</td>\n",
              "      <td>0</td>\n",
              "      <td>50</td>\n",
              "      <td>0.0</td>\n",
              "    </tr>\n",
              "    <tr>\n",
              "      <th>4</th>\n",
              "      <td>48945</td>\n",
              "      <td>Technology</td>\n",
              "      <td>region_26</td>\n",
              "      <td>Bachelor's</td>\n",
              "      <td>m</td>\n",
              "      <td>other</td>\n",
              "      <td>1</td>\n",
              "      <td>45</td>\n",
              "      <td>3.0</td>\n",
              "      <td>2</td>\n",
              "      <td>0</td>\n",
              "      <td>0</td>\n",
              "      <td>73</td>\n",
              "      <td>0.0</td>\n",
              "    </tr>\n",
              "  </tbody>\n",
              "</table>\n",
              "</div>\n",
              "    <div class=\"colab-df-buttons\">\n",
              "\n",
              "  <div class=\"colab-df-container\">\n",
              "    <button class=\"colab-df-convert\" onclick=\"convertToInteractive('df-fd74f474-0193-4ad9-88fb-f4a03262b318')\"\n",
              "            title=\"Convert this dataframe to an interactive table.\"\n",
              "            style=\"display:none;\">\n",
              "\n",
              "  <svg xmlns=\"http://www.w3.org/2000/svg\" height=\"24px\" viewBox=\"0 -960 960 960\">\n",
              "    <path d=\"M120-120v-720h720v720H120Zm60-500h600v-160H180v160Zm220 220h160v-160H400v160Zm0 220h160v-160H400v160ZM180-400h160v-160H180v160Zm440 0h160v-160H620v160ZM180-180h160v-160H180v160Zm440 0h160v-160H620v160Z\"/>\n",
              "  </svg>\n",
              "    </button>\n",
              "\n",
              "  <style>\n",
              "    .colab-df-container {\n",
              "      display:flex;\n",
              "      gap: 12px;\n",
              "    }\n",
              "\n",
              "    .colab-df-convert {\n",
              "      background-color: #E8F0FE;\n",
              "      border: none;\n",
              "      border-radius: 50%;\n",
              "      cursor: pointer;\n",
              "      display: none;\n",
              "      fill: #1967D2;\n",
              "      height: 32px;\n",
              "      padding: 0 0 0 0;\n",
              "      width: 32px;\n",
              "    }\n",
              "\n",
              "    .colab-df-convert:hover {\n",
              "      background-color: #E2EBFA;\n",
              "      box-shadow: 0px 1px 2px rgba(60, 64, 67, 0.3), 0px 1px 3px 1px rgba(60, 64, 67, 0.15);\n",
              "      fill: #174EA6;\n",
              "    }\n",
              "\n",
              "    .colab-df-buttons div {\n",
              "      margin-bottom: 4px;\n",
              "    }\n",
              "\n",
              "    [theme=dark] .colab-df-convert {\n",
              "      background-color: #3B4455;\n",
              "      fill: #D2E3FC;\n",
              "    }\n",
              "\n",
              "    [theme=dark] .colab-df-convert:hover {\n",
              "      background-color: #434B5C;\n",
              "      box-shadow: 0px 1px 3px 1px rgba(0, 0, 0, 0.15);\n",
              "      filter: drop-shadow(0px 1px 2px rgba(0, 0, 0, 0.3));\n",
              "      fill: #FFFFFF;\n",
              "    }\n",
              "  </style>\n",
              "\n",
              "    <script>\n",
              "      const buttonEl =\n",
              "        document.querySelector('#df-fd74f474-0193-4ad9-88fb-f4a03262b318 button.colab-df-convert');\n",
              "      buttonEl.style.display =\n",
              "        google.colab.kernel.accessAllowed ? 'block' : 'none';\n",
              "\n",
              "      async function convertToInteractive(key) {\n",
              "        const element = document.querySelector('#df-fd74f474-0193-4ad9-88fb-f4a03262b318');\n",
              "        const dataTable =\n",
              "          await google.colab.kernel.invokeFunction('convertToInteractive',\n",
              "                                                    [key], {});\n",
              "        if (!dataTable) return;\n",
              "\n",
              "        const docLinkHtml = 'Like what you see? Visit the ' +\n",
              "          '<a target=\"_blank\" href=https://colab.research.google.com/notebooks/data_table.ipynb>data table notebook</a>'\n",
              "          + ' to learn more about interactive tables.';\n",
              "        element.innerHTML = '';\n",
              "        dataTable['output_type'] = 'display_data';\n",
              "        await google.colab.output.renderOutput(dataTable, element);\n",
              "        const docLink = document.createElement('div');\n",
              "        docLink.innerHTML = docLinkHtml;\n",
              "        element.appendChild(docLink);\n",
              "      }\n",
              "    </script>\n",
              "  </div>\n",
              "\n",
              "\n",
              "<div id=\"df-39dd2a92-185b-418e-b7df-0e14d3bdd7cf\">\n",
              "  <button class=\"colab-df-quickchart\" onclick=\"quickchart('df-39dd2a92-185b-418e-b7df-0e14d3bdd7cf')\"\n",
              "            title=\"Suggest charts.\"\n",
              "            style=\"display:none;\">\n",
              "\n",
              "<svg xmlns=\"http://www.w3.org/2000/svg\" height=\"24px\"viewBox=\"0 0 24 24\"\n",
              "     width=\"24px\">\n",
              "    <g>\n",
              "        <path d=\"M19 3H5c-1.1 0-2 .9-2 2v14c0 1.1.9 2 2 2h14c1.1 0 2-.9 2-2V5c0-1.1-.9-2-2-2zM9 17H7v-7h2v7zm4 0h-2V7h2v10zm4 0h-2v-4h2v4z\"/>\n",
              "    </g>\n",
              "</svg>\n",
              "  </button>\n",
              "\n",
              "<style>\n",
              "  .colab-df-quickchart {\n",
              "      --bg-color: #E8F0FE;\n",
              "      --fill-color: #1967D2;\n",
              "      --hover-bg-color: #E2EBFA;\n",
              "      --hover-fill-color: #174EA6;\n",
              "      --disabled-fill-color: #AAA;\n",
              "      --disabled-bg-color: #DDD;\n",
              "  }\n",
              "\n",
              "  [theme=dark] .colab-df-quickchart {\n",
              "      --bg-color: #3B4455;\n",
              "      --fill-color: #D2E3FC;\n",
              "      --hover-bg-color: #434B5C;\n",
              "      --hover-fill-color: #FFFFFF;\n",
              "      --disabled-bg-color: #3B4455;\n",
              "      --disabled-fill-color: #666;\n",
              "  }\n",
              "\n",
              "  .colab-df-quickchart {\n",
              "    background-color: var(--bg-color);\n",
              "    border: none;\n",
              "    border-radius: 50%;\n",
              "    cursor: pointer;\n",
              "    display: none;\n",
              "    fill: var(--fill-color);\n",
              "    height: 32px;\n",
              "    padding: 0;\n",
              "    width: 32px;\n",
              "  }\n",
              "\n",
              "  .colab-df-quickchart:hover {\n",
              "    background-color: var(--hover-bg-color);\n",
              "    box-shadow: 0 1px 2px rgba(60, 64, 67, 0.3), 0 1px 3px 1px rgba(60, 64, 67, 0.15);\n",
              "    fill: var(--button-hover-fill-color);\n",
              "  }\n",
              "\n",
              "  .colab-df-quickchart-complete:disabled,\n",
              "  .colab-df-quickchart-complete:disabled:hover {\n",
              "    background-color: var(--disabled-bg-color);\n",
              "    fill: var(--disabled-fill-color);\n",
              "    box-shadow: none;\n",
              "  }\n",
              "\n",
              "  .colab-df-spinner {\n",
              "    border: 2px solid var(--fill-color);\n",
              "    border-color: transparent;\n",
              "    border-bottom-color: var(--fill-color);\n",
              "    animation:\n",
              "      spin 1s steps(1) infinite;\n",
              "  }\n",
              "\n",
              "  @keyframes spin {\n",
              "    0% {\n",
              "      border-color: transparent;\n",
              "      border-bottom-color: var(--fill-color);\n",
              "      border-left-color: var(--fill-color);\n",
              "    }\n",
              "    20% {\n",
              "      border-color: transparent;\n",
              "      border-left-color: var(--fill-color);\n",
              "      border-top-color: var(--fill-color);\n",
              "    }\n",
              "    30% {\n",
              "      border-color: transparent;\n",
              "      border-left-color: var(--fill-color);\n",
              "      border-top-color: var(--fill-color);\n",
              "      border-right-color: var(--fill-color);\n",
              "    }\n",
              "    40% {\n",
              "      border-color: transparent;\n",
              "      border-right-color: var(--fill-color);\n",
              "      border-top-color: var(--fill-color);\n",
              "    }\n",
              "    60% {\n",
              "      border-color: transparent;\n",
              "      border-right-color: var(--fill-color);\n",
              "    }\n",
              "    80% {\n",
              "      border-color: transparent;\n",
              "      border-right-color: var(--fill-color);\n",
              "      border-bottom-color: var(--fill-color);\n",
              "    }\n",
              "    90% {\n",
              "      border-color: transparent;\n",
              "      border-bottom-color: var(--fill-color);\n",
              "    }\n",
              "  }\n",
              "</style>\n",
              "\n",
              "  <script>\n",
              "    async function quickchart(key) {\n",
              "      const quickchartButtonEl =\n",
              "        document.querySelector('#' + key + ' button');\n",
              "      quickchartButtonEl.disabled = true;  // To prevent multiple clicks.\n",
              "      quickchartButtonEl.classList.add('colab-df-spinner');\n",
              "      try {\n",
              "        const charts = await google.colab.kernel.invokeFunction(\n",
              "            'suggestCharts', [key], {});\n",
              "      } catch (error) {\n",
              "        console.error('Error during call to suggestCharts:', error);\n",
              "      }\n",
              "      quickchartButtonEl.classList.remove('colab-df-spinner');\n",
              "      quickchartButtonEl.classList.add('colab-df-quickchart-complete');\n",
              "    }\n",
              "    (() => {\n",
              "      let quickchartButtonEl =\n",
              "        document.querySelector('#df-39dd2a92-185b-418e-b7df-0e14d3bdd7cf button');\n",
              "      quickchartButtonEl.style.display =\n",
              "        google.colab.kernel.accessAllowed ? 'block' : 'none';\n",
              "    })();\n",
              "  </script>\n",
              "</div>\n",
              "    </div>\n",
              "  </div>\n"
            ]
          },
          "metadata": {},
          "execution_count": 28
        }
      ]
    },
    {
      "cell_type": "code",
      "source": [
        "df.shape"
      ],
      "metadata": {
        "colab": {
          "base_uri": "https://localhost:8080/"
        },
        "id": "DK8HBOt0WTwO",
        "outputId": "b7a32f10-6e7c-421d-9656-f31d0903711f"
      },
      "execution_count": 29,
      "outputs": [
        {
          "output_type": "execute_result",
          "data": {
            "text/plain": [
              "(156596, 14)"
            ]
          },
          "metadata": {},
          "execution_count": 29
        }
      ]
    },
    {
      "cell_type": "markdown",
      "source": [
        "## Data Cleaning\n"
      ],
      "metadata": {
        "id": "1SRamrGnVMtr"
      }
    },
    {
      "cell_type": "code",
      "source": [
        "df.isnull().sum()"
      ],
      "metadata": {
        "colab": {
          "base_uri": "https://localhost:8080/"
        },
        "id": "TUdX3hBNVXxN",
        "outputId": "1b2beb42-0fc0-44d9-bf47-b389d23f0c2b"
      },
      "execution_count": 30,
      "outputs": [
        {
          "output_type": "execute_result",
          "data": {
            "text/plain": [
              "employee_id                 0\n",
              "department                  0\n",
              "region                      0\n",
              "education                6886\n",
              "gender                      0\n",
              "recruitment_channel         0\n",
              "no_of_trainings             0\n",
              "age                         0\n",
              "previous_year_rating    11872\n",
              "length_of_service           0\n",
              "KPIs_met >80%               0\n",
              "awards_won?                 0\n",
              "avg_training_score          0\n",
              "is_promoted             46980\n",
              "dtype: int64"
            ]
          },
          "metadata": {},
          "execution_count": 30
        }
      ]
    },
    {
      "cell_type": "code",
      "source": [
        "columns_to_replace = ['education', 'previous_year_rating', 'is_promoted']\n",
        "df[columns_to_replace]=df[columns_to_replace].fillna(0)"
      ],
      "metadata": {
        "id": "00rdp4S1VfFK"
      },
      "execution_count": 31,
      "outputs": []
    },
    {
      "cell_type": "code",
      "source": [
        "print(df)"
      ],
      "metadata": {
        "colab": {
          "base_uri": "https://localhost:8080/"
        },
        "id": "b1yEizBCWE4K",
        "outputId": "b51e76dd-f8f5-47b3-e439-4c574dc657dc"
      },
      "execution_count": 32,
      "outputs": [
        {
          "output_type": "stream",
          "name": "stdout",
          "text": [
            "        employee_id         department     region         education gender  \\\n",
            "0             65438  Sales & Marketing   region_7  Master's & above      f   \n",
            "1             65141         Operations  region_22        Bachelor's      m   \n",
            "2              7513  Sales & Marketing  region_19        Bachelor's      m   \n",
            "3              2542  Sales & Marketing  region_23        Bachelor's      m   \n",
            "4             48945         Technology  region_26        Bachelor's      m   \n",
            "...             ...                ...        ...               ...    ...   \n",
            "156591        53478              Legal   region_2   Below Secondary      m   \n",
            "156592        25600         Technology  region_25        Bachelor's      m   \n",
            "156593        45409                 HR  region_16        Bachelor's      f   \n",
            "156594         1186        Procurement  region_31        Bachelor's      m   \n",
            "156595         5973         Technology  region_17  Master's & above      m   \n",
            "\n",
            "       recruitment_channel  no_of_trainings  age  previous_year_rating  \\\n",
            "0                 sourcing                1   35                   5.0   \n",
            "1                    other                1   30                   5.0   \n",
            "2                 sourcing                1   34                   3.0   \n",
            "3                    other                2   39                   1.0   \n",
            "4                    other                1   45                   3.0   \n",
            "...                    ...              ...  ...                   ...   \n",
            "156591            sourcing                1   24                   3.0   \n",
            "156592            sourcing                1   31                   3.0   \n",
            "156593            sourcing                1   26                   4.0   \n",
            "156594            sourcing                3   27                   0.0   \n",
            "156595               other                3   40                   5.0   \n",
            "\n",
            "        length_of_service  KPIs_met >80%  awards_won?  avg_training_score  \\\n",
            "0                       8              1            0                  49   \n",
            "1                       4              0            0                  60   \n",
            "2                       7              0            0                  50   \n",
            "3                      10              0            0                  50   \n",
            "4                       2              0            0                  73   \n",
            "...                   ...            ...          ...                 ...   \n",
            "156591                  1              0            0                  61   \n",
            "156592                  7              0            0                  74   \n",
            "156593                  4              0            0                  50   \n",
            "156594                  1              0            0                  70   \n",
            "156595                  5              1            0                  89   \n",
            "\n",
            "        is_promoted  \n",
            "0               0.0  \n",
            "1               0.0  \n",
            "2               0.0  \n",
            "3               0.0  \n",
            "4               0.0  \n",
            "...             ...  \n",
            "156591          0.0  \n",
            "156592          0.0  \n",
            "156593          0.0  \n",
            "156594          0.0  \n",
            "156595          0.0  \n",
            "\n",
            "[156596 rows x 14 columns]\n"
          ]
        }
      ]
    },
    {
      "cell_type": "code",
      "source": [
        "df.isnull().sum()"
      ],
      "metadata": {
        "colab": {
          "base_uri": "https://localhost:8080/"
        },
        "id": "lHxSP7EMWd26",
        "outputId": "4e71f980-2b02-4bda-d16b-7e50e25f52c4"
      },
      "execution_count": 33,
      "outputs": [
        {
          "output_type": "execute_result",
          "data": {
            "text/plain": [
              "employee_id             0\n",
              "department              0\n",
              "region                  0\n",
              "education               0\n",
              "gender                  0\n",
              "recruitment_channel     0\n",
              "no_of_trainings         0\n",
              "age                     0\n",
              "previous_year_rating    0\n",
              "length_of_service       0\n",
              "KPIs_met >80%           0\n",
              "awards_won?             0\n",
              "avg_training_score      0\n",
              "is_promoted             0\n",
              "dtype: int64"
            ]
          },
          "metadata": {},
          "execution_count": 33
        }
      ]
    },
    {
      "cell_type": "code",
      "source": [
        "duplicate_rows = df[df.duplicated()]\n",
        "print(\"Duplicate Rows:\")\n",
        "print(duplicate_rows)"
      ],
      "metadata": {
        "colab": {
          "base_uri": "https://localhost:8080/"
        },
        "id": "6mUPiEqkWpz8",
        "outputId": "bf4bf7a7-8962-4461-b440-619199138c6e"
      },
      "execution_count": 34,
      "outputs": [
        {
          "output_type": "stream",
          "name": "stdout",
          "text": [
            "Duplicate Rows:\n",
            "        employee_id         department     region         education gender  \\\n",
            "78298         65438  Sales & Marketing   region_7  Master's & above      f   \n",
            "78299         65141         Operations  region_22        Bachelor's      m   \n",
            "78300          7513  Sales & Marketing  region_19        Bachelor's      m   \n",
            "78301          2542  Sales & Marketing  region_23        Bachelor's      m   \n",
            "78302         48945         Technology  region_26        Bachelor's      m   \n",
            "...             ...                ...        ...               ...    ...   \n",
            "156591        53478              Legal   region_2   Below Secondary      m   \n",
            "156592        25600         Technology  region_25        Bachelor's      m   \n",
            "156593        45409                 HR  region_16        Bachelor's      f   \n",
            "156594         1186        Procurement  region_31        Bachelor's      m   \n",
            "156595         5973         Technology  region_17  Master's & above      m   \n",
            "\n",
            "       recruitment_channel  no_of_trainings  age  previous_year_rating  \\\n",
            "78298             sourcing                1   35                   5.0   \n",
            "78299                other                1   30                   5.0   \n",
            "78300             sourcing                1   34                   3.0   \n",
            "78301                other                2   39                   1.0   \n",
            "78302                other                1   45                   3.0   \n",
            "...                    ...              ...  ...                   ...   \n",
            "156591            sourcing                1   24                   3.0   \n",
            "156592            sourcing                1   31                   3.0   \n",
            "156593            sourcing                1   26                   4.0   \n",
            "156594            sourcing                3   27                   0.0   \n",
            "156595               other                3   40                   5.0   \n",
            "\n",
            "        length_of_service  KPIs_met >80%  awards_won?  avg_training_score  \\\n",
            "78298                   8              1            0                  49   \n",
            "78299                   4              0            0                  60   \n",
            "78300                   7              0            0                  50   \n",
            "78301                  10              0            0                  50   \n",
            "78302                   2              0            0                  73   \n",
            "...                   ...            ...          ...                 ...   \n",
            "156591                  1              0            0                  61   \n",
            "156592                  7              0            0                  74   \n",
            "156593                  4              0            0                  50   \n",
            "156594                  1              0            0                  70   \n",
            "156595                  5              1            0                  89   \n",
            "\n",
            "        is_promoted  \n",
            "78298           0.0  \n",
            "78299           0.0  \n",
            "78300           0.0  \n",
            "78301           0.0  \n",
            "78302           0.0  \n",
            "...             ...  \n",
            "156591          0.0  \n",
            "156592          0.0  \n",
            "156593          0.0  \n",
            "156594          0.0  \n",
            "156595          0.0  \n",
            "\n",
            "[78298 rows x 14 columns]\n"
          ]
        }
      ]
    },
    {
      "cell_type": "markdown",
      "source": [
        "## Data Analysis\n",
        "\n",
        "1. Comparing Gender Ratio\n",
        "2. Comparing Experience\n",
        "3. Analysing Ages of Employees\n",
        "4. Analysing Loyality of Employees toward Company\n",
        "5. Studying Department Stength"
      ],
      "metadata": {
        "id": "qFU8kVP-Xiq0"
      }
    },
    {
      "cell_type": "markdown",
      "source": [
        "Comparing Gender Ratio"
      ],
      "metadata": {
        "id": "gHW_sNp6E9T_"
      }
    },
    {
      "cell_type": "code",
      "source": [
        "# Calculate the gender ratios\n",
        "gender_counts = df['gender'].value_counts()\n",
        "print(gender_counts)\n"
      ],
      "metadata": {
        "colab": {
          "base_uri": "https://localhost:8080/"
        },
        "id": "hMjl6q2VXn5L",
        "outputId": "583a24bf-3239-4863-b882-5585b04ab60f"
      },
      "execution_count": 35,
      "outputs": [
        {
          "output_type": "stream",
          "name": "stdout",
          "text": [
            "m    110184\n",
            "f     46412\n",
            "Name: gender, dtype: int64\n"
          ]
        }
      ]
    },
    {
      "cell_type": "code",
      "source": [
        "plt.figure(figsize=(6, 6))\n",
        "plt.pie(gender_counts, labels=gender_counts.index, autopct='%1.1f%%')\n",
        "plt.title('Gender Ratio')\n",
        "plt.axis('equal')\n",
        "plt.show()"
      ],
      "metadata": {
        "colab": {
          "base_uri": "https://localhost:8080/",
          "height": 521
        },
        "id": "uOxHhONLZPuB",
        "outputId": "287d8d48-d48d-47ad-98c1-50794c62dd73"
      },
      "execution_count": 36,
      "outputs": [
        {
          "output_type": "display_data",
          "data": {
            "text/plain": [
              "<Figure size 600x600 with 1 Axes>"
            ],
            "image/png": "[encoded data removed]"
          },
          "metadata": {}
        }
      ]
    },
    {
      "cell_type": "markdown",
      "source": [
        "\n",
        "\n",
        "---\n",
        "\n"
      ],
      "metadata": {
        "id": "dUITJFRPFnwH"
      }
    },
    {
      "cell_type": "markdown",
      "source": [
        "Analysing Length of Service"
      ],
      "metadata": {
        "id": "dIhiObC8FFbC"
      }
    },
    {
      "cell_type": "code",
      "source": [
        "length_of_service = df['length_of_service']\n",
        "print(length_of_service)"
      ],
      "metadata": {
        "id": "f9x2x9O6ZXue",
        "colab": {
          "base_uri": "https://localhost:8080/"
        },
        "outputId": "5d1b5505-92f5-4e7c-e9b0-69907d5e7f97"
      },
      "execution_count": 37,
      "outputs": [
        {
          "output_type": "stream",
          "name": "stdout",
          "text": [
            "0          8\n",
            "1          4\n",
            "2          7\n",
            "3         10\n",
            "4          2\n",
            "          ..\n",
            "156591     1\n",
            "156592     7\n",
            "156593     4\n",
            "156594     1\n",
            "156595     5\n",
            "Name: length_of_service, Length: 156596, dtype: int64\n"
          ]
        }
      ]
    },
    {
      "cell_type": "code",
      "source": [
        "# Sort the DataFrame by the \"length_of_service\" column in descending order\n",
        "data_sorted = df.sort_values(by='length_of_service', ascending=False)\n",
        "\n",
        "# Display the sorted DataFrame\n",
        "print(data_sorted)"
      ],
      "metadata": {
        "colab": {
          "base_uri": "https://localhost:8080/"
        },
        "id": "N64LtHBG-mzE",
        "outputId": "17464119-042e-482e-c9b5-fed95b753c80"
      },
      "execution_count": 38,
      "outputs": [
        {
          "output_type": "stream",
          "name": "stdout",
          "text": [
            "        employee_id         department     region   education gender  \\\n",
            "31071         51576  Sales & Marketing   region_2  Bachelor's      m   \n",
            "109369        51576  Sales & Marketing   region_2  Bachelor's      m   \n",
            "16159         71819  Sales & Marketing   region_2  Bachelor's      f   \n",
            "66786         71243         Operations   region_2  Bachelor's      m   \n",
            "11227         71985          Analytics   region_2  Bachelor's      m   \n",
            "...             ...                ...        ...         ...    ...   \n",
            "67456         43237  Sales & Marketing  region_22  Bachelor's      f   \n",
            "112316        56489         Technology   region_6  Bachelor's      f   \n",
            "112318        63421  Sales & Marketing  region_22  Bachelor's      f   \n",
            "67445         61191         Technology  region_32  Bachelor's      m   \n",
            "29422         70641         Operations  region_22  Bachelor's      m   \n",
            "\n",
            "       recruitment_channel  no_of_trainings  age  previous_year_rating  \\\n",
            "31071             sourcing                2   60                   5.0   \n",
            "109369            sourcing                2   60                   5.0   \n",
            "16159                other                1   60                   3.0   \n",
            "66786                other                1   60                   3.0   \n",
            "11227                other                2   60                   5.0   \n",
            "...                    ...              ...  ...                   ...   \n",
            "67456             sourcing                1   26                   0.0   \n",
            "112316            sourcing                1   29                   0.0   \n",
            "112318            sourcing                1   27                   0.0   \n",
            "67445                other                1   26                   0.0   \n",
            "29422                other                2   27                   0.0   \n",
            "\n",
            "        length_of_service  KPIs_met >80%  awards_won?  avg_training_score  \\\n",
            "31071                  37              0            0                  48   \n",
            "109369                 37              0            0                  48   \n",
            "16159                  34              0            0                  46   \n",
            "66786                  34              0            0                  56   \n",
            "11227                  34              1            0                  87   \n",
            "...                   ...            ...          ...                 ...   \n",
            "67456                   1              1            0                  46   \n",
            "112316                  1              0            0                  77   \n",
            "112318                  1              0            0                  46   \n",
            "67445                   1              1            0                  81   \n",
            "29422                   1              1            0                  57   \n",
            "\n",
            "        is_promoted  \n",
            "31071           0.0  \n",
            "109369          0.0  \n",
            "16159           0.0  \n",
            "66786           0.0  \n",
            "11227           1.0  \n",
            "...             ...  \n",
            "67456           0.0  \n",
            "112316          0.0  \n",
            "112318          0.0  \n",
            "67445           0.0  \n",
            "29422           0.0  \n",
            "\n",
            "[156596 rows x 14 columns]\n"
          ]
        }
      ]
    },
    {
      "cell_type": "code",
      "source": [
        "# Create a histogram to compare employee experience\n",
        "plt.figure(figsize=(10, 6))\n",
        "plt.hist(length_of_service, bins=20, color='skyblue', edgecolor='black')\n",
        "plt.title('Employee Experience Distribution')\n",
        "plt.xlabel('Years of Service')\n",
        "plt.ylabel('Frequency')\n",
        "plt.grid(True, linestyle='--', alpha=0.6)\n",
        "plt.show()"
      ],
      "metadata": {
        "colab": {
          "base_uri": "https://localhost:8080/",
          "height": 564
        },
        "id": "AypuqMTr-2r6",
        "outputId": "0a111f4e-c1ba-43da-e29e-aee01a213cd6"
      },
      "execution_count": 39,
      "outputs": [
        {
          "output_type": "display_data",
          "data": {
            "text/plain": [
              "<Figure size 1000x600 with 1 Axes>"
            ],
            "image/png": "[encoded data removed]"
          },
          "metadata": {}
        }
      ]
    },
    {
      "cell_type": "markdown",
      "source": [
        "\n",
        "\n",
        "---\n",
        "\n"
      ],
      "metadata": {
        "id": "RXc6gGpRFpkx"
      }
    },
    {
      "cell_type": "markdown",
      "source": [
        "Visualising Employee Age Variation"
      ],
      "metadata": {
        "id": "nnVEHWNXFRXe"
      }
    },
    {
      "cell_type": "code",
      "source": [
        "# Extract the 'age' column\n",
        "ages = df['age']\n",
        "\n",
        "# Create a box plot\n",
        "plt.figure(figsize=(8, 6))\n",
        "plt.boxplot(ages, vert=False)\n",
        "plt.title('Employee Age Distribution (Box Plot)')\n",
        "plt.xlabel('Age')\n",
        "plt.grid(True, linestyle='--', alpha=0.6)\n",
        "plt.show()"
      ],
      "metadata": {
        "colab": {
          "base_uri": "https://localhost:8080/",
          "height": 564
        },
        "id": "s5Xh3bbQ_Tsi",
        "outputId": "802bf072-4a45-473e-8926-3f8dc514b523"
      },
      "execution_count": 41,
      "outputs": [
        {
          "output_type": "display_data",
          "data": {
            "text/plain": [
              "<Figure size 800x600 with 1 Axes>"
            ],
            "image/png": "[encoded data removed]"
          },
          "metadata": {}
        }
      ]
    },
    {
      "cell_type": "markdown",
      "source": [
        "\n",
        "\n",
        "---\n",
        "\n"
      ],
      "metadata": {
        "id": "e-O_l2ciFrCA"
      }
    },
    {
      "cell_type": "markdown",
      "source": [
        "Analysing Loyality and Retention Rate of Employees"
      ],
      "metadata": {
        "id": "YVfvk0jTFadW"
      }
    },
    {
      "cell_type": "code",
      "source": [
        "# Calculating loyality of employee by calculating retention rate\n",
        "retention_rate = (df['is_promoted'].value_counts()[0] / len(df)) * 100\n",
        "\n",
        "print(f\"Retention Rate: {retention_rate:.2f}%\")"
      ],
      "metadata": {
        "colab": {
          "base_uri": "https://localhost:8080/"
        },
        "id": "AHi5J9nt_-u0",
        "outputId": "82560b1f-0c5d-4b8c-b08d-953d762d4abf"
      },
      "execution_count": 43,
      "outputs": [
        {
          "output_type": "stream",
          "name": "stdout",
          "text": [
            "Retention Rate: 94.04%\n"
          ]
        }
      ]
    },
    {
      "cell_type": "code",
      "source": [
        "#The retention rate is calculated as the percentage of employees who were not promoted.\n",
        "#We use a pie chart to visualize the retention rate, with two slices: \"Retained\" and \"Not Retained.\n",
        "#Retained: Not been promoted\n",
        "#Not retained: Been Promoted\n",
        "\n",
        "plt.figure(figsize=(6, 6))\n",
        "labels = ['Retained', 'Not Retained']\n",
        "sizes = [100 - retention_rate, retention_rate]\n",
        "colors = ['lightcoral', 'skyblue']\n",
        "plt.pie(sizes, labels=labels, colors=colors, autopct='%1.1f%%')\n",
        "plt.title('Employee Retention Rate')\n",
        "plt.show()"
      ],
      "metadata": {
        "colab": {
          "base_uri": "https://localhost:8080/",
          "height": 521
        },
        "id": "BzcsVJKLBanZ",
        "outputId": "5404d708-56a4-4f13-f09a-543e26116d76"
      },
      "execution_count": 49,
      "outputs": [
        {
          "output_type": "display_data",
          "data": {
            "text/plain": [
              "<Figure size 600x600 with 1 Axes>"
            ],
            "image/png": "[encoded data removed]"
          },
          "metadata": {}
        }
      ]
    },
    {
      "cell_type": "markdown",
      "source": [
        "\n",
        "\n",
        "---\n",
        "\n"
      ],
      "metadata": {
        "id": "2LPvGVc4FsUB"
      }
    },
    {
      "cell_type": "markdown",
      "source": [
        "Calculating Department Weightage"
      ],
      "metadata": {
        "id": "WWiyX0-HFgKc"
      }
    },
    {
      "cell_type": "code",
      "source": [
        "# Count the number of employees in each department\n",
        "department_counts = df['department'].value_counts()\n",
        "print(department_counts)"
      ],
      "metadata": {
        "colab": {
          "base_uri": "https://localhost:8080/"
        },
        "id": "0GzDDodnCd5n",
        "outputId": "0568715d-3dbd-44d5-bc94-c6787b9cee3d"
      },
      "execution_count": 51,
      "outputs": [
        {
          "output_type": "stream",
          "name": "stdout",
          "text": [
            "Sales & Marketing    48310\n",
            "Operations           32224\n",
            "Procurement          20316\n",
            "Technology           20298\n",
            "Analytics            15342\n",
            "Finance               7254\n",
            "HR                    7006\n",
            "Legal                 2968\n",
            "R&D                   2878\n",
            "Name: department, dtype: int64\n"
          ]
        }
      ]
    },
    {
      "cell_type": "code",
      "source": [
        "# Create a bar chart for department distribution\n",
        "plt.figure(figsize=(10, 6))\n",
        "department_counts.plot(kind='bar', color='green')\n",
        "plt.title('Employee Distribution by Department')\n",
        "plt.xlabel('Department')\n",
        "plt.ylabel('Number of Employees')\n",
        "plt.xticks(rotation=45, ha='right')\n",
        "plt.tight_layout()\n",
        "plt.show()"
      ],
      "metadata": {
        "colab": {
          "base_uri": "https://localhost:8080/",
          "height": 607
        },
        "id": "T2EPilVfElV_",
        "outputId": "19f276d5-8507-4e74-b765-df8706cb44db"
      },
      "execution_count": 54,
      "outputs": [
        {
          "output_type": "display_data",
          "data": {
            "text/plain": [
              "<Figure size 1000x600 with 1 Axes>"
            ],
            "image/png": "[encoded data removed]"
          },
          "metadata": {}
        }
      ]
    },
    {
      "cell_type": "markdown",
      "source": [
        "\n",
        "\n",
        "---\n",
        "\n"
      ],
      "metadata": {
        "id": "ywQgWBN-Fuod"
      }
    },
    {
      "cell_type": "markdown",
      "source": [
        "# THANK YOU!"
      ],
      "metadata": {
        "id": "xn79xqqoFvw2"
      }
    }
  ]
}